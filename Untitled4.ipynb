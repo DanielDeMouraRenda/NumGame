{
  "nbformat": 4,
  "nbformat_minor": 0,
  "metadata": {
    "colab": {
      "provenance": [],
      "authorship_tag": "ABX9TyONRfTD/evl4I2I/d7jNvQ4",
      "include_colab_link": true
    },
    "kernelspec": {
      "name": "python3",
      "display_name": "Python 3"
    },
    "language_info": {
      "name": "python"
    }
  },
  "cells": [
    {
      "cell_type": "markdown",
      "metadata": {
        "id": "view-in-github",
        "colab_type": "text"
      },
      "source": [
        "<a href=\"https://colab.research.google.com/github/DanielDeMouraRenda/NumGame/blob/main/Untitled4.ipynb\" target=\"_parent\"><img src=\"https://colab.research.google.com/assets/colab-badge.svg\" alt=\"Open In Colab\"/></a>"
      ]
    },
    {
      "cell_type": "code",
      "execution_count": null,
      "metadata": {
        "id": "hAwIHET79ut2"
      },
      "outputs": [],
      "source": [
        "import random\n",
        "import matplotlib.pyplot as plt\n",
        "\n",
        "class GameAgent:\n",
        "    def __init__(self, secret_number, max_attempts=5):\n",
        "        self.secret_number = secret_number\n",
        "        self.max_attempts = max_attempts\n",
        "        self.attempts = 0\n",
        "        self.state = \"Esperando tentativa\"\n",
        "        self.history = []  # Histórico de tentativas\n",
        "\n",
        "    def make_guess(self, guess):\n",
        "        self.attempts += 1\n",
        "        self.history.append(guess)\n",
        "\n",
        "        if guess == self.secret_number:\n",
        "            self.state = \"Acertou!\"\n",
        "            return \"Parabéns! Você acertou o número.\"\n",
        "        elif self.attempts >= self.max_attempts:\n",
        "            self.state = \"Fim do jogo\"\n",
        "            return f\"Game Over! O número era {self.secret_number}.\"\n",
        "        elif guess < self.secret_number:\n",
        "            self.state = \"Tentativa errada (muito baixo)\"\n",
        "            return \"O número é maior. Tente novamente.\"\n",
        "        else:\n",
        "            self.state = \"Tentativa errada (muito alto)\"\n",
        "            return \"O número é menor. Tente novamente.\"\n",
        "\n",
        "    def provide_hint(self):\n",
        "        if self.attempts > 1:\n",
        "            last_guess = self.history[-2]\n",
        "            if abs(last_guess - self.secret_number) > 20:\n",
        "                return \"Você está muito longe do número secreto.\"\n",
        "            else:\n",
        "                return \"Você está perto do número secreto!\"\n",
        "        return \"Faça sua primeira tentativa!\"\n",
        "\n",
        "def select_difficulty():\n",
        "    print(\"Selecione o nível de dificuldade:\")\n",
        "    print(\"1. Fácil (1-50, 10 tentativas)\")\n",
        "    print(\"2. Médio (1-100, 7 tentativas)\")\n",
        "    print(\"3. Difícil (1-200, 5 tentativas)\")\n",
        "    choice = int(input(\"Digite sua escolha (1/2/3): \"))\n",
        "\n",
        "    if choice == 1:\n",
        "        return random.randint(1, 50), 10\n",
        "    elif choice == 2:\n",
        "        return random.randint(1, 100), 7\n",
        "    elif choice == 3:\n",
        "        return random.randint(1, 200), 5\n",
        "    else:\n",
        "        print(\"Escolha inválida, padrão será Médio.\")\n",
        "        return random.randint(1, 100), 7\n",
        "\n",
        "# Selecionando dificuldade e criando um agente\n",
        "secret_number, max_attempts = select_difficulty()\n",
        "agent = GameAgent(secret_number=secret_number, max_attempts=max_attempts)\n",
        "\n",
        "while agent.state not in [\"Acertou!\", \"Fim do jogo\"]:\n",
        "    guess = int(input(\"Digite um número: \"))\n",
        "    print(agent.make_guess(guess))\n",
        "    print(agent.provide_hint())\n",
        "\n",
        "def plot_attempts(agent):\n",
        "    plt.figure(figsize=(8, 5))\n",
        "    plt.plot(range(1, len(agent.history) + 1), agent.history, marker='o', linestyle='-')\n",
        "    plt.axhline(y=agent.secret_number, color='r', linestyle='--', label='Número Secreto')\n",
        "    plt.xlabel(\"Tentativas\")\n",
        "    plt.ylabel(\"Valor do Palpite\")\n",
        "    plt.title(\"Evolução das Tentativas do Jogador\")\n",
        "    plt.legend()\n",
        "\n",
        "    # Adicionando anotações para cada palpite\n",
        "    for i, guess in enumerate(agent.history):\n",
        "        plt.annotate(guess, (i + 1, guess), textcoords=\"offset points\", xytext=(0, 10), ha='center')\n",
        "\n",
        "    # Configurando os eixos para mostrar apenas números inteiros\n",
        "    plt.xticks(range(1, len(agent.history) + 1))  # Eixo X\n",
        "    plt.yticks(range(min(agent.history) - 5, max(agent.history) + 6))  # Eixo Y com um pequeno buffer\n",
        "\n",
        "    plt.show()\n",
        "\n",
        "plot_attempts(agent)\n"
      ]
    }
  ]
}